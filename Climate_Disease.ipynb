{
  "nbformat": 4,
  "nbformat_minor": 0,
  "metadata": {
    "colab": {
      "provenance": [],
      "toc_visible": true,
      "authorship_tag": "ABX9TyMHeIdzYrNtKWrqEWhgZ2iY",
      "include_colab_link": true
    },
    "kernelspec": {
      "name": "python3",
      "display_name": "Python 3"
    },
    "language_info": {
      "name": "python"
    }
  },
  "cells": [
    {
      "cell_type": "markdown",
      "metadata": {
        "id": "view-in-github",
        "colab_type": "text"
      },
      "source": [
        "<a href=\"https://colab.research.google.com/github/AdithyaOthayoth/Climate_disease/blob/main/Climate_Disease.ipynb\" target=\"_parent\"><img src=\"https://colab.research.google.com/assets/colab-badge.svg\" alt=\"Open In Colab\"/></a>"
      ]
    },
    {
      "cell_type": "code",
      "execution_count": 1,
      "metadata": {
        "id": "Wp89G51rYUoC"
      },
      "outputs": [],
      "source": [
        "import pandas as pd\n",
        "import numpy as np"
      ]
    },
    {
      "cell_type": "code",
      "source": [
        "data = pd.read_csv('/content/climate_disease_dataset.csv')"
      ],
      "metadata": {
        "id": "LAJ3mn2AZWN2"
      },
      "execution_count": 4,
      "outputs": []
    },
    {
      "cell_type": "code",
      "source": [
        "print(data.head())"
      ],
      "metadata": {
        "colab": {
          "base_uri": "https://localhost:8080/"
        },
        "id": "zc2rVFyaZgNk",
        "outputId": "716a9f90-f7dc-4ed1-c899-08433f0aa741"
      },
      "execution_count": 3,
      "outputs": [
        {
          "output_type": "stream",
          "name": "stdout",
          "text": [
            "   year  month                country   region  avg_temp_c  precipitation_mm  \\\n",
            "0  2000      1  Palestinian Territory  Central   28.132468        152.083870   \n",
            "1  2000      2  Palestinian Territory  Central   30.886500        119.591418   \n",
            "2  2000      3  Palestinian Territory  Central   31.366433         95.876124   \n",
            "3  2000      4  Palestinian Territory  Central   28.481870        175.315731   \n",
            "4  2000      5  Palestinian Territory  Central   26.890370        191.445990   \n",
            "\n",
            "   air_quality_index   uv_index  malaria_cases  dengue_cases  \\\n",
            "0         110.487231  12.000000             53           145   \n",
            "1          83.467928  12.000000            132            48   \n",
            "2          93.095292  12.000000             34            80   \n",
            "3         105.530192   9.395894             23           133   \n",
            "4          60.205979   9.935726             39            74   \n",
            "\n",
            "   population_density  healthcare_budget  \n",
            "0                 113               1068  \n",
            "1                 113               1068  \n",
            "2                 113               1068  \n",
            "3                 113               1068  \n",
            "4                 113               1068  \n"
          ]
        }
      ]
    }
  ]
}